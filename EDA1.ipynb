{
  "nbformat": 4,
  "nbformat_minor": 0,
  "metadata": {
    "colab": {
      "name": "EDA1.ipynb",
      "provenance": [],
      "collapsed_sections": [],
      "authorship_tag": "ABX9TyNX5JqqiGnhML4DSdUwGxLw",
      "include_colab_link": true
    },
    "kernelspec": {
      "name": "python3",
      "display_name": "Python 3"
    },
    "language_info": {
      "name": "python"
    }
  },
  "cells": [
    {
      "cell_type": "markdown",
      "metadata": {
        "id": "view-in-github",
        "colab_type": "text"
      },
      "source": [
        "<a href=\"https://colab.research.google.com/github/philippe753/Applied-Data-Science/blob/main/EDA1.ipynb\" target=\"_parent\"><img src=\"https://colab.research.google.com/assets/colab-badge.svg\" alt=\"Open In Colab\"/></a>"
      ]
    },
    {
      "cell_type": "code",
      "execution_count": null,
      "metadata": {
        "id": "mw21hX67Ff-G"
      },
      "outputs": [],
      "source": [
        "# Importing the libraries\n",
        "import numpy as np\n",
        "import pandas as pd\n",
        "import time\n",
        "\n",
        "import matplotlib.pyplot as plt\n",
        "%matplotlib inline\n",
        "import seaborn as sns\n",
        "from scipy import stats\n",
        "from scipy.stats import norm, skew\n",
        "from scipy.special import boxcox1p\n",
        "from scipy.stats import boxcox_normmax\n",
        "\n",
        "from sklearn import preprocessing\n",
        "from sklearn.preprocessing import StandardScaler\n",
        "\n",
        "import sklearn\n",
        "from sklearn import metrics\n",
        "from sklearn.metrics import roc_curve, auc, roc_auc_score \n",
        "from sklearn.metrics import classification_report,confusion_matrix\n",
        "from sklearn.metrics import average_precision_score, precision_recall_curve#\n",
        "# Loading the data\n",
        "df = pd.read_csv('/content/creditcard.csv')\n",
        "# df = pd.read_csv('./data/creditcard.csv')\n",
        "df.head()\n",
        "# Checking the shape\n",
        "df.shape\n",
        "# Checking distribution of numerical values in the dataset\n",
        "df.describe()\n",
        "df.info()\n",
        "# Checking the class distribution of the target variable\n",
        "df['Class'].value_counts()\n",
        "# Checking the class distribution of the target variable in percentage\n",
        "print((df.groupby('Class')['Class'].count()/df['Class'].count()) *100)\n",
        "((df.groupby('Class')['Class'].count()/df['Class'].count()) *100).plot.pie()\n",
        "# Checking the correlation\n",
        "corr = df.corr()\n",
        "corr\n",
        "# Checking the correlation in heatmap\n",
        "plt.figure(figsize=(24,18))\n",
        "\n",
        "sns.heatmap(corr, cmap=\"coolwarm\", annot=True)\n",
        "plt.show()\n",
        "# Checking the % distribution of normal vs fraud\n",
        "classes=df['Class'].value_counts()\n",
        "normal_share=classes[0]/df['Class'].count()*100\n",
        "fraud_share=classes[1]/df['Class'].count()*100\n",
        "\n",
        "print(normal_share)\n",
        "print(fraud_share)\n",
        "# Create a bar plot for the number and percentage of fraudulent vs non-fraudulent transcations\n",
        "plt.figure(figsize=(7,5))\n",
        "sns.countplot(df['Class'])\n",
        "plt.title(\"Class Count\", fontsize=18)\n",
        "plt.xlabel(\"Record counts by class\", fontsize=15)\n",
        "plt.ylabel(\"Count\", fontsize=15)\n",
        "plt.show()\n",
        "# Splitting the dataset into X and y\n",
        "y= df['Class']\n",
        "X = df.drop(['Class'], axis=1)\n",
        "# Splitting the dataset using train test split\n",
        "#X_train, X_test, y_train, y_test = train_test_split(X, y, random_state=100, test_size=0.20)\n",
        "# Accumulating all the column names under one variable\n",
        "cols = list(X.columns.values)\n",
        "# plot the histogram of a variable from the dataset to see the skewness\n",
        "normal_records = df.Class == 0\n",
        "fraud_records = df.Class == 1\n",
        "\n",
        "plt.figure(figsize=(20, 60))\n",
        "for n, col in enumerate(cols):\n",
        "  plt.subplot(10,3,n+1)\n",
        "  sns.distplot(X[col][normal_records], color='green')\n",
        "  sns.distplot(X[col][fraud_records], color='red')\n",
        "  plt.title(col, fontsize=17)\n",
        "plt.show()"
      ]
    }
  ]
}