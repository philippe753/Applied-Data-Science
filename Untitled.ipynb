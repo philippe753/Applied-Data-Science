{
 "cells": [
  {
   "cell_type": "code",
   "execution_count": 1,
   "id": "7e87c730",
   "metadata": {},
   "outputs": [],
   "source": [
    "import pyreadstat\n",
    "import pandas as pd\n",
    "import numpy as np\n",
    "from sklearn import tree\n",
    "from sklearn.model_selection import cross_val_score\n",
    "from sklearn.model_selection import cross_val_predict\n",
    "from sklearn.model_selection import train_test_split\n",
    "from sklearn.metrics import accuracy_score\n",
    "import graphviz"
   ]
  },
  {
   "cell_type": "code",
   "execution_count": 3,
   "id": "02fd3db0",
   "metadata": {},
   "outputs": [
    {
     "data": {
      "text/html": [
       "<div>\n",
       "<style scoped>\n",
       "    .dataframe tbody tr th:only-of-type {\n",
       "        vertical-align: middle;\n",
       "    }\n",
       "\n",
       "    .dataframe tbody tr th {\n",
       "        vertical-align: top;\n",
       "    }\n",
       "\n",
       "    .dataframe thead th {\n",
       "        text-align: right;\n",
       "    }\n",
       "</style>\n",
       "<table border=\"1\" class=\"dataframe\">\n",
       "  <thead>\n",
       "    <tr style=\"text-align: right;\">\n",
       "      <th></th>\n",
       "      <th>Unnamed: 0</th>\n",
       "      <th>Time</th>\n",
       "      <th>V1</th>\n",
       "      <th>V2</th>\n",
       "      <th>V3</th>\n",
       "      <th>V4</th>\n",
       "      <th>V5</th>\n",
       "      <th>V6</th>\n",
       "      <th>V7</th>\n",
       "      <th>V8</th>\n",
       "      <th>...</th>\n",
       "      <th>V21</th>\n",
       "      <th>V22</th>\n",
       "      <th>V23</th>\n",
       "      <th>V24</th>\n",
       "      <th>V25</th>\n",
       "      <th>V26</th>\n",
       "      <th>V27</th>\n",
       "      <th>V28</th>\n",
       "      <th>Amount</th>\n",
       "      <th>Class</th>\n",
       "    </tr>\n",
       "  </thead>\n",
       "  <tbody>\n",
       "    <tr>\n",
       "      <th>0</th>\n",
       "      <td>186879</td>\n",
       "      <td>127293.0</td>\n",
       "      <td>2.055234</td>\n",
       "      <td>-1.151824</td>\n",
       "      <td>-0.260925</td>\n",
       "      <td>-0.648327</td>\n",
       "      <td>-1.034765</td>\n",
       "      <td>0.460418</td>\n",
       "      <td>-1.354896</td>\n",
       "      <td>0.183812</td>\n",
       "      <td>...</td>\n",
       "      <td>-0.311218</td>\n",
       "      <td>-0.346497</td>\n",
       "      <td>0.229033</td>\n",
       "      <td>-1.037615</td>\n",
       "      <td>-0.598095</td>\n",
       "      <td>0.526558</td>\n",
       "      <td>0.006515</td>\n",
       "      <td>-0.046975</td>\n",
       "      <td>39.85</td>\n",
       "      <td>0</td>\n",
       "    </tr>\n",
       "    <tr>\n",
       "      <th>1</th>\n",
       "      <td>14211</td>\n",
       "      <td>25254.0</td>\n",
       "      <td>-17.275191</td>\n",
       "      <td>10.819665</td>\n",
       "      <td>-20.363886</td>\n",
       "      <td>6.046612</td>\n",
       "      <td>-13.465033</td>\n",
       "      <td>-4.166647</td>\n",
       "      <td>-14.409448</td>\n",
       "      <td>11.580797</td>\n",
       "      <td>...</td>\n",
       "      <td>1.729804</td>\n",
       "      <td>-1.208096</td>\n",
       "      <td>-0.726839</td>\n",
       "      <td>0.112540</td>\n",
       "      <td>1.119193</td>\n",
       "      <td>-0.233189</td>\n",
       "      <td>1.684063</td>\n",
       "      <td>0.503740</td>\n",
       "      <td>99.99</td>\n",
       "      <td>1</td>\n",
       "    </tr>\n",
       "    <tr>\n",
       "      <th>2</th>\n",
       "      <td>169565</td>\n",
       "      <td>119757.0</td>\n",
       "      <td>-0.943172</td>\n",
       "      <td>0.359359</td>\n",
       "      <td>0.899749</td>\n",
       "      <td>-2.709957</td>\n",
       "      <td>0.963729</td>\n",
       "      <td>-0.838753</td>\n",
       "      <td>0.753285</td>\n",
       "      <td>-0.229923</td>\n",
       "      <td>...</td>\n",
       "      <td>-0.001837</td>\n",
       "      <td>0.138221</td>\n",
       "      <td>-0.577678</td>\n",
       "      <td>0.562839</td>\n",
       "      <td>0.913595</td>\n",
       "      <td>-0.146241</td>\n",
       "      <td>-0.062422</td>\n",
       "      <td>0.038294</td>\n",
       "      <td>7.24</td>\n",
       "      <td>0</td>\n",
       "    </tr>\n",
       "    <tr>\n",
       "      <th>3</th>\n",
       "      <td>106998</td>\n",
       "      <td>70229.0</td>\n",
       "      <td>0.315642</td>\n",
       "      <td>1.636778</td>\n",
       "      <td>-1.519650</td>\n",
       "      <td>4.028571</td>\n",
       "      <td>-1.186794</td>\n",
       "      <td>-0.789813</td>\n",
       "      <td>-2.279807</td>\n",
       "      <td>0.472988</td>\n",
       "      <td>...</td>\n",
       "      <td>0.345921</td>\n",
       "      <td>-0.108002</td>\n",
       "      <td>-0.165442</td>\n",
       "      <td>0.279895</td>\n",
       "      <td>0.808783</td>\n",
       "      <td>0.117363</td>\n",
       "      <td>0.589595</td>\n",
       "      <td>0.309064</td>\n",
       "      <td>3.79</td>\n",
       "      <td>1</td>\n",
       "    </tr>\n",
       "    <tr>\n",
       "      <th>4</th>\n",
       "      <td>52977</td>\n",
       "      <td>45749.0</td>\n",
       "      <td>1.217191</td>\n",
       "      <td>0.604685</td>\n",
       "      <td>-0.479373</td>\n",
       "      <td>1.166582</td>\n",
       "      <td>0.226904</td>\n",
       "      <td>-0.751701</td>\n",
       "      <td>0.144654</td>\n",
       "      <td>-0.029229</td>\n",
       "      <td>...</td>\n",
       "      <td>-0.047350</td>\n",
       "      <td>-0.139375</td>\n",
       "      <td>-0.166428</td>\n",
       "      <td>-0.153356</td>\n",
       "      <td>0.676152</td>\n",
       "      <td>-0.321659</td>\n",
       "      <td>0.025461</td>\n",
       "      <td>0.042175</td>\n",
       "      <td>1.00</td>\n",
       "      <td>0</td>\n",
       "    </tr>\n",
       "    <tr>\n",
       "      <th>...</th>\n",
       "      <td>...</td>\n",
       "      <td>...</td>\n",
       "      <td>...</td>\n",
       "      <td>...</td>\n",
       "      <td>...</td>\n",
       "      <td>...</td>\n",
       "      <td>...</td>\n",
       "      <td>...</td>\n",
       "      <td>...</td>\n",
       "      <td>...</td>\n",
       "      <td>...</td>\n",
       "      <td>...</td>\n",
       "      <td>...</td>\n",
       "      <td>...</td>\n",
       "      <td>...</td>\n",
       "      <td>...</td>\n",
       "      <td>...</td>\n",
       "      <td>...</td>\n",
       "      <td>...</td>\n",
       "      <td>...</td>\n",
       "      <td>...</td>\n",
       "    </tr>\n",
       "    <tr>\n",
       "      <th>979</th>\n",
       "      <td>84534</td>\n",
       "      <td>60348.0</td>\n",
       "      <td>1.135753</td>\n",
       "      <td>0.387952</td>\n",
       "      <td>0.206995</td>\n",
       "      <td>2.252880</td>\n",
       "      <td>0.195032</td>\n",
       "      <td>0.100221</td>\n",
       "      <td>0.111609</td>\n",
       "      <td>0.063061</td>\n",
       "      <td>...</td>\n",
       "      <td>0.028366</td>\n",
       "      <td>-0.094159</td>\n",
       "      <td>-0.176763</td>\n",
       "      <td>-0.371993</td>\n",
       "      <td>0.590069</td>\n",
       "      <td>0.060153</td>\n",
       "      <td>-0.033954</td>\n",
       "      <td>0.006821</td>\n",
       "      <td>39.99</td>\n",
       "      <td>0</td>\n",
       "    </tr>\n",
       "    <tr>\n",
       "      <th>980</th>\n",
       "      <td>15566</td>\n",
       "      <td>26961.0</td>\n",
       "      <td>-23.237920</td>\n",
       "      <td>13.487386</td>\n",
       "      <td>-25.188773</td>\n",
       "      <td>6.261733</td>\n",
       "      <td>-17.345188</td>\n",
       "      <td>-4.534989</td>\n",
       "      <td>-17.100492</td>\n",
       "      <td>15.374630</td>\n",
       "      <td>...</td>\n",
       "      <td>1.769708</td>\n",
       "      <td>-1.691973</td>\n",
       "      <td>-1.045673</td>\n",
       "      <td>0.143386</td>\n",
       "      <td>1.611577</td>\n",
       "      <td>-0.221576</td>\n",
       "      <td>1.481233</td>\n",
       "      <td>0.438125</td>\n",
       "      <td>99.99</td>\n",
       "      <td>1</td>\n",
       "    </tr>\n",
       "    <tr>\n",
       "      <th>981</th>\n",
       "      <td>174530</td>\n",
       "      <td>121953.0</td>\n",
       "      <td>-0.499332</td>\n",
       "      <td>-0.460400</td>\n",
       "      <td>1.425609</td>\n",
       "      <td>-2.399803</td>\n",
       "      <td>-0.219714</td>\n",
       "      <td>-0.168835</td>\n",
       "      <td>-0.202177</td>\n",
       "      <td>-0.074524</td>\n",
       "      <td>...</td>\n",
       "      <td>-0.156082</td>\n",
       "      <td>-0.096614</td>\n",
       "      <td>-0.248837</td>\n",
       "      <td>0.617470</td>\n",
       "      <td>0.576851</td>\n",
       "      <td>-0.022821</td>\n",
       "      <td>0.047177</td>\n",
       "      <td>0.070158</td>\n",
       "      <td>29.56</td>\n",
       "      <td>0</td>\n",
       "    </tr>\n",
       "    <tr>\n",
       "      <th>982</th>\n",
       "      <td>42696</td>\n",
       "      <td>41203.0</td>\n",
       "      <td>-8.426814</td>\n",
       "      <td>6.241659</td>\n",
       "      <td>-9.946470</td>\n",
       "      <td>8.199614</td>\n",
       "      <td>-8.213093</td>\n",
       "      <td>-2.522046</td>\n",
       "      <td>-11.643028</td>\n",
       "      <td>5.339500</td>\n",
       "      <td>...</td>\n",
       "      <td>2.427460</td>\n",
       "      <td>0.692667</td>\n",
       "      <td>0.020305</td>\n",
       "      <td>0.499809</td>\n",
       "      <td>0.467594</td>\n",
       "      <td>0.483162</td>\n",
       "      <td>1.195671</td>\n",
       "      <td>0.198294</td>\n",
       "      <td>88.23</td>\n",
       "      <td>1</td>\n",
       "    </tr>\n",
       "    <tr>\n",
       "      <th>983</th>\n",
       "      <td>263877</td>\n",
       "      <td>161154.0</td>\n",
       "      <td>-3.387601</td>\n",
       "      <td>3.977881</td>\n",
       "      <td>-6.978585</td>\n",
       "      <td>1.657766</td>\n",
       "      <td>-1.100500</td>\n",
       "      <td>-3.599487</td>\n",
       "      <td>-3.686651</td>\n",
       "      <td>1.942252</td>\n",
       "      <td>...</td>\n",
       "      <td>1.043587</td>\n",
       "      <td>0.262189</td>\n",
       "      <td>-0.479224</td>\n",
       "      <td>-0.326638</td>\n",
       "      <td>-0.156939</td>\n",
       "      <td>0.113807</td>\n",
       "      <td>0.354124</td>\n",
       "      <td>0.287592</td>\n",
       "      <td>0.38</td>\n",
       "      <td>1</td>\n",
       "    </tr>\n",
       "  </tbody>\n",
       "</table>\n",
       "<p>984 rows × 32 columns</p>\n",
       "</div>"
      ],
      "text/plain": [
       "     Unnamed: 0      Time         V1         V2         V3        V4  \\\n",
       "0        186879  127293.0   2.055234  -1.151824  -0.260925 -0.648327   \n",
       "1         14211   25254.0 -17.275191  10.819665 -20.363886  6.046612   \n",
       "2        169565  119757.0  -0.943172   0.359359   0.899749 -2.709957   \n",
       "3        106998   70229.0   0.315642   1.636778  -1.519650  4.028571   \n",
       "4         52977   45749.0   1.217191   0.604685  -0.479373  1.166582   \n",
       "..          ...       ...        ...        ...        ...       ...   \n",
       "979       84534   60348.0   1.135753   0.387952   0.206995  2.252880   \n",
       "980       15566   26961.0 -23.237920  13.487386 -25.188773  6.261733   \n",
       "981      174530  121953.0  -0.499332  -0.460400   1.425609 -2.399803   \n",
       "982       42696   41203.0  -8.426814   6.241659  -9.946470  8.199614   \n",
       "983      263877  161154.0  -3.387601   3.977881  -6.978585  1.657766   \n",
       "\n",
       "            V5        V6         V7         V8  ...       V21       V22  \\\n",
       "0    -1.034765  0.460418  -1.354896   0.183812  ... -0.311218 -0.346497   \n",
       "1   -13.465033 -4.166647 -14.409448  11.580797  ...  1.729804 -1.208096   \n",
       "2     0.963729 -0.838753   0.753285  -0.229923  ... -0.001837  0.138221   \n",
       "3    -1.186794 -0.789813  -2.279807   0.472988  ...  0.345921 -0.108002   \n",
       "4     0.226904 -0.751701   0.144654  -0.029229  ... -0.047350 -0.139375   \n",
       "..         ...       ...        ...        ...  ...       ...       ...   \n",
       "979   0.195032  0.100221   0.111609   0.063061  ...  0.028366 -0.094159   \n",
       "980 -17.345188 -4.534989 -17.100492  15.374630  ...  1.769708 -1.691973   \n",
       "981  -0.219714 -0.168835  -0.202177  -0.074524  ... -0.156082 -0.096614   \n",
       "982  -8.213093 -2.522046 -11.643028   5.339500  ...  2.427460  0.692667   \n",
       "983  -1.100500 -3.599487  -3.686651   1.942252  ...  1.043587  0.262189   \n",
       "\n",
       "          V23       V24       V25       V26       V27       V28  Amount  Class  \n",
       "0    0.229033 -1.037615 -0.598095  0.526558  0.006515 -0.046975   39.85      0  \n",
       "1   -0.726839  0.112540  1.119193 -0.233189  1.684063  0.503740   99.99      1  \n",
       "2   -0.577678  0.562839  0.913595 -0.146241 -0.062422  0.038294    7.24      0  \n",
       "3   -0.165442  0.279895  0.808783  0.117363  0.589595  0.309064    3.79      1  \n",
       "4   -0.166428 -0.153356  0.676152 -0.321659  0.025461  0.042175    1.00      0  \n",
       "..        ...       ...       ...       ...       ...       ...     ...    ...  \n",
       "979 -0.176763 -0.371993  0.590069  0.060153 -0.033954  0.006821   39.99      0  \n",
       "980 -1.045673  0.143386  1.611577 -0.221576  1.481233  0.438125   99.99      1  \n",
       "981 -0.248837  0.617470  0.576851 -0.022821  0.047177  0.070158   29.56      0  \n",
       "982  0.020305  0.499809  0.467594  0.483162  1.195671  0.198294   88.23      1  \n",
       "983 -0.479224 -0.326638 -0.156939  0.113807  0.354124  0.287592    0.38      1  \n",
       "\n",
       "[984 rows x 32 columns]"
      ]
     },
     "execution_count": 3,
     "metadata": {},
     "output_type": "execute_result"
    }
   ],
   "source": [
    "df = pd.read_csv(r'C:\\Users\\rbergna\\Documents\\P\\balanced_data.csv')\n",
    "df"
   ]
  },
  {
   "cell_type": "code",
   "execution_count": 8,
   "id": "e5fa9702",
   "metadata": {},
   "outputs": [],
   "source": [
    "X, y = df.iloc[:, :-1], df.iloc[:, -1:]\n",
    "\n",
    "X_train, X_test, y_train, y_test = train_test_split(X, y, test_size=0.20, random_state=42)"
   ]
  },
  {
   "cell_type": "code",
   "execution_count": 36,
   "id": "96125623",
   "metadata": {},
   "outputs": [
    {
     "name": "stdout",
     "output_type": "stream",
     "text": [
      "[20:26:35] WARNING: C:/Users/Administrator/workspace/xgboost-win64_release_1.5.1/src/learner.cc:1115: Starting in XGBoost 1.3.0, the default evaluation metric used with the objective 'binary:logistic' was changed from 'error' to 'logloss'. Explicitly set eval_metric if you'd like to restore the old behavior.\n"
     ]
    },
    {
     "data": {
      "text/plain": [
       "XGBClassifier(base_score=0.5, booster='gbtree', colsample_bylevel=1,\n",
       "              colsample_bynode=1, colsample_bytree=1, enable_categorical=False,\n",
       "              gamma=0, gpu_id=-1, importance_type=None,\n",
       "              interaction_constraints='', learning_rate=0.300000012,\n",
       "              max_delta_step=0, max_depth=6, min_child_weight=1, missing=nan,\n",
       "              monotone_constraints='()', n_estimators=100, n_jobs=8,\n",
       "              num_parallel_tree=1, predictor='auto', random_state=0,\n",
       "              reg_alpha=0, reg_lambda=1, scale_pos_weight=1, subsample=1,\n",
       "              tree_method='exact', validate_parameters=1, verbosity=None)"
      ]
     },
     "execution_count": 36,
     "metadata": {},
     "output_type": "execute_result"
    }
   ],
   "source": [
    "from xgboost import XGBClassifier\n",
    "import xgboost \n",
    "xgb = XGBClassifier()\n",
    "xgb.fit(X_train, y_train)"
   ]
  },
  {
   "cell_type": "code",
   "execution_count": 50,
   "id": "5d4a05cc",
   "metadata": {},
   "outputs": [],
   "source": [
    "def predic_data(X_data, y_data, model=xgb):\n",
    "    res_pred = model.predict(X_data)\n",
    "    score = accuracy_score(y_data, res_pred)\n",
    "    print(\"Score :\", score)"
   ]
  },
  {
   "cell_type": "code",
   "execution_count": 38,
   "id": "eb229ea3",
   "metadata": {},
   "outputs": [
    {
     "name": "stdout",
     "output_type": "stream",
     "text": [
      "Score : 1.0\n"
     ]
    }
   ],
   "source": [
    "# Train\n",
    "predic_data(X_train, y_train)"
   ]
  },
  {
   "cell_type": "code",
   "execution_count": 39,
   "id": "4398843d",
   "metadata": {},
   "outputs": [
    {
     "name": "stdout",
     "output_type": "stream",
     "text": [
      "Score : 0.9593908629441624\n"
     ]
    },
    {
     "name": "stderr",
     "output_type": "stream",
     "text": [
      "C:\\Users\\rbergna\\Anaconda3\\lib\\site-packages\\xgboost\\data.py:262: FutureWarning: pandas.Int64Index is deprecated and will be removed from pandas in a future version. Use pandas.Index with the appropriate dtype instead.\n",
      "  elif isinstance(data.columns, (pd.Int64Index, pd.RangeIndex)):\n"
     ]
    }
   ],
   "source": [
    "# Test\n",
    "predic_data(X_test, y_test)"
   ]
  },
  {
   "cell_type": "code",
   "execution_count": 45,
   "id": "07c80365",
   "metadata": {},
   "outputs": [
    {
     "data": {
      "image/png": "[encoded data removed]",
      "text/plain": [
       "<Figure size 432x288 with 1 Axes>"
      ]
     },
     "metadata": {
      "needs_background": "light"
     },
     "output_type": "display_data"
    }
   ],
   "source": [
    "format = 'png' #You should try the 'svg'\n",
    "\n",
    "image = xgboost.to_graphviz(xgb)\n",
    "#Set a different dpi (work only if format == 'png')\n",
    "image.graph_attr = {'dpi':'400'}\n",
    "image.render('XGBoost for Philippe', format = format)\n",
    "\n",
    "dot_data = plot_tree(xgb)\n",
    "plt.show()"
   ]
  },
  {
   "cell_type": "code",
   "execution_count": null,
   "id": "4876d31d",
   "metadata": {},
   "outputs": [],
   "source": []
  },
  {
   "cell_type": "code",
   "execution_count": null,
   "id": "29d84d5e",
   "metadata": {},
   "outputs": [],
   "source": []
  },
  {
   "cell_type": "code",
   "execution_count": null,
   "id": "da76dafc",
   "metadata": {},
   "outputs": [],
   "source": []
  },
  {
   "cell_type": "code",
   "execution_count": 66,
   "id": "70ce3a96",
   "metadata": {},
   "outputs": [],
   "source": [
    "clf_tree = tree.DecisionTreeClassifier(max_depth = 5)\n",
    "clf_tree = clf_tree.fit(X=X_train, y=y_train)"
   ]
  },
  {
   "cell_type": "code",
   "execution_count": 67,
   "id": "a9a1cbee",
   "metadata": {},
   "outputs": [
    {
     "name": "stdout",
     "output_type": "stream",
     "text": [
      "Score : 0.9783989834815756\n"
     ]
    }
   ],
   "source": [
    "# Train\n",
    "predic_data(X_train, y_train, clf_tree)"
   ]
  },
  {
   "cell_type": "code",
   "execution_count": 68,
   "id": "cab0d9d7",
   "metadata": {},
   "outputs": [
    {
     "name": "stdout",
     "output_type": "stream",
     "text": [
      "Score : 0.934010152284264\n"
     ]
    }
   ],
   "source": [
    "# Train\n",
    "predic_data(X_test, y_test, clf_tree)"
   ]
  },
  {
   "cell_type": "code",
   "execution_count": 70,
   "id": "f9098edc",
   "metadata": {},
   "outputs": [
    {
     "data": {
      "text/plain": [
       "'Tree for Philippe (Max depth = 5).png'"
      ]
     },
     "execution_count": 70,
     "metadata": {},
     "output_type": "execute_result"
    }
   ],
   "source": [
    "# DOT data\n",
    "dot_data = tree.export_graphviz(clf_tree, out_file=None, \n",
    "                                feature_names=X.columns,  \n",
    "                                class_names=['1', '0'],\n",
    "                                filled=True)\n",
    "\n",
    "# Draw graph\n",
    "graph = graphviz.Source(dot_data, format=\"png\") \n",
    "graph.render('Tree for Philippe (Max depth = )', view=True)"
   ]
  },
  {
   "cell_type": "code",
   "execution_count": null,
   "id": "3ce7b39c",
   "metadata": {},
   "outputs": [],
   "source": []
  }
 ],
 "metadata": {
  "kernelspec": {
   "display_name": "Python 3 (ipykernel)",
   "language": "python",
   "name": "python3"
  },
  "language_info": {
   "codemirror_mode": {
    "name": "ipython",
    "version": 3
   },
   "file_extension": ".py",
   "mimetype": "text/x-python",
   "name": "python",
   "nbconvert_exporter": "python",
   "pygments_lexer": "ipython3",
   "version": "3.8.8"
  }
 },
 "nbformat": 4,
 "nbformat_minor": 5
}
